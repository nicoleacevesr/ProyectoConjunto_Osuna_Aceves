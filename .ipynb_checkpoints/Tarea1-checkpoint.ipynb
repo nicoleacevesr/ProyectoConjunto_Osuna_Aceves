{
 "cells": [
  {
   "cell_type": "markdown",
   "metadata": {},
   "source": [
    "# Tarea 1."
   ]
  },
  {
   "cell_type": "markdown",
   "metadata": {},
   "source": [
    "* De este curso esperamos obtener las competencias adecuadas para evaluar procesos financieros en periodos de tiempo y lo que estos implican y los distintos escenarios que esto puede implicar para poder interpretar y tomar decisiones de manera óptima.\n"
   ]
  },
  {
   "cell_type": "markdown",
<<<<<<< HEAD
   "metadata": {
    "collapsed": true
   },
   "source": [
    "Cambio."
   ]
  },
  {
   "cell_type": "code",
   "execution_count": null,
=======
>>>>>>> master
   "metadata": {
    "collapsed": true
   },
   "source": [
    "## Python is becoming the world´s most popular coding language\n",
    "\n",
    "\n",
    "<img style=\"float: left; margin: 30px 15px 15px 15px;\" src=\"https://www.economist.com/sites/default/files/imagecache/640-width/20180728_WOC883.png\" width=\"500\" height=\"500\" />\n",
    "\n",
    "\n",
    "#### Resumen:\n",
    "\"Nunca pensé crear un lenguaje de programación que fuera usado por las masas.\" Fue lo que dijo *Guido van Rossum*, el creador de python. Pero 3 decadas despues de su creación(1989), Python es el lenguaje de programación más buscado por los americanos.\n",
    "Usando como ventaja la simplicidad y su flexibilidad, se han subido más de 145,000 paquetes de python customizados a diferentes repositorios. Con tan rapido crecimiento y variedad diferente de capacidades, python se esta convirtiendo en el lenguaje de programación de preferencia dejando a otros programas obsoletos. Aunque algunos programas con diferentes capacidades como *C++* y *Java* dificilmente seran reemplazados por el mismo. Aun con todo esto, los entusiastas de python no deben tomar por dada la supremacia del lenguaje, ya que en el pasado muchos programas que parecian dominantes fueron olvidados. "
   ]
  },
  {
   "cell_type": "markdown",
   "metadata": {},
   "source": [
    "hola"
   ]
  }
 ],
 "metadata": {
  "kernelspec": {
   "display_name": "Python 3",
   "language": "python",
   "name": "python3"
  },
  "language_info": {
   "codemirror_mode": {
    "name": "ipython",
    "version": 3
   },
   "file_extension": ".py",
   "mimetype": "text/x-python",
   "name": "python",
   "nbconvert_exporter": "python",
   "pygments_lexer": "ipython3",
   "version": "3.6.5"
  }
 },
 "nbformat": 4,
 "nbformat_minor": 2
}
